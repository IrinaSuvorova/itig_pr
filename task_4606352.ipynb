{
  "nbformat": 4,
  "nbformat_minor": 0,
  "metadata": {
    "colab": {
      "provenance": []
    },
    "kernelspec": {
      "name": "python3",
      "display_name": "Python 3"
    },
    "language_info": {
      "name": "python"
    }
  },
  "cells": [
    {
      "cell_type": "markdown",
      "source": [
        "f(x) =0.6x^3+5.5x^2+10x -5  \n",
        "- Определить корни  \n",
        "- Найти интервалы, на которых функция возрастает  \n",
        "- Найти интервалы, на которых функция убывает  \n",
        "- Построить график  \n",
        "- Вычислить вершину  \n",
        "- Определить промежутки, на котором f > 0  \n",
        "- Определить промежутки, на котором f < 0  "
      ],
      "metadata": {
        "id": "Uenz82zARqN6"
      }
    },
    {
      "cell_type": "code",
      "source": [
        "import matplotlib.pyplot as plt\n",
        "from sympy import *"
      ],
      "metadata": {
        "id": "GYcef4YCTozI"
      },
      "execution_count": 1,
      "outputs": []
    },
    {
      "cell_type": "code",
      "source": [
        "x = Symbol('x')\n",
        "eq = 0.6*x**3 + 5.5*x**2 + 10*x - 5"
      ],
      "metadata": {
        "id": "uY0hStdkZiOX"
      },
      "execution_count": 2,
      "outputs": []
    },
    {
      "cell_type": "markdown",
      "source": [
        "# Определение корней уравнения"
      ],
      "metadata": {
        "id": "RVcVUPR8SnnX"
      }
    },
    {
      "cell_type": "code",
      "source": [
        "def get_roots(eq):\n",
        "    roots = solve(eq)\n",
        "    for i, root in enumerate(roots):\n",
        "        print(f'{i+1}-й корень =', round(root, 3))"
      ],
      "metadata": {
        "id": "ltixSf9XXE_9"
      },
      "execution_count": 3,
      "outputs": []
    },
    {
      "cell_type": "code",
      "source": [
        "get_roots(eq)"
      ],
      "metadata": {
        "colab": {
          "base_uri": "https://localhost:8080/"
        },
        "id": "-4c951D6XnMn",
        "outputId": "080170d6-34ff-4e09-ad38-c1f18264a6fc"
      },
      "execution_count": 4,
      "outputs": [
        {
          "output_type": "stream",
          "name": "stdout",
          "text": [
            "1-й корень = -6.322\n",
            "2-й корень = -3.250\n",
            "3-й корень = 0.406\n"
          ]
        }
      ]
    },
    {
      "cell_type": "markdown",
      "source": [
        "# Определение интервалов возрастания и убывания функции"
      ],
      "metadata": {
        "id": "f9sVSdPuX07k"
      }
    },
    {
      "cell_type": "code",
      "source": [
        "def get_intervals(eq):\n",
        "    dif = diff(eq)\n",
        "    print('Функция возрастает на следующих интервалах:', solve(dif > 0)) \n",
        "    print('Функция убывает на следующих интервалах:', solve(dif < 0))"
      ],
      "metadata": {
        "id": "JMU1hlZpXVSI"
      },
      "execution_count": 5,
      "outputs": []
    },
    {
      "cell_type": "code",
      "source": [
        "get_intervals(eq)"
      ],
      "metadata": {
        "colab": {
          "base_uri": "https://localhost:8080/"
        },
        "id": "OfaazdDxYUNn",
        "outputId": "c527ab23-5dd4-4d8d-ebea-659d115bd024"
      },
      "execution_count": 6,
      "outputs": [
        {
          "output_type": "stream",
          "name": "stdout",
          "text": [
            "Функция возрастает на следующих интервалах: ((-oo < x) & (x < -5.0)) | ((-1.11111111111111 < x) & (x < oo))\n",
            "Функция убывает на следующих интервалах: (-5.0 < x) & (x < -1.11111111111111)\n"
          ]
        }
      ]
    },
    {
      "cell_type": "markdown",
      "source": [
        "# Построение графика"
      ],
      "metadata": {
        "id": "XdlOR-bVZP0O"
      }
    },
    {
      "cell_type": "code",
      "source": [
        "def func(x):\n",
        "    return 0.6*x**3 + 5.5*x**2 + 10*x - 5"
      ],
      "metadata": {
        "id": "t9zcrPEhbj8j"
      },
      "execution_count": 7,
      "outputs": []
    },
    {
      "cell_type": "code",
      "source": [
        "xs = range(-10, 6)\n",
        "ys = [func(x) for x in xs]"
      ],
      "metadata": {
        "id": "CucaxaKgYVoB"
      },
      "execution_count": 8,
      "outputs": []
    },
    {
      "cell_type": "code",
      "source": [
        "fig, ax = plt.subplots(figsize=(10, 5))\n",
        "ax.plot(xs, ys)\n",
        "ax.set_xlabel('x')\n",
        "ax.set_ylabel('y')\n",
        "ax.set_title('График функции')\n",
        "ax.grid(True)"
      ],
      "metadata": {
        "colab": {
          "base_uri": "https://localhost:8080/",
          "height": 350
        },
        "id": "ZWcvcXdvacvt",
        "outputId": "078aa959-cf99-4190-b8c4-a15df57fd278"
      },
      "execution_count": 9,
      "outputs": [
        {
          "output_type": "display_data",
          "data": {
            "text/plain": [
              "<Figure size 720x360 with 1 Axes>"
            ],
            "image/png": "[encoded data removed]"
          },
          "metadata": {
            "needs_background": "light"
          }
        }
      ]
    },
    {
      "cell_type": "markdown",
      "source": [
        "# Определение вершины функции"
      ],
      "metadata": {
        "id": "DL0IsSiyZTeE"
      }
    },
    {
      "cell_type": "code",
      "source": [
        "def get_top(eq):\n",
        "    points = solve(diff(eq))\n",
        "    points = [round(point, 3) for point in points]\n",
        "    values = [func(point) for point in points]\n",
        "    ind = values.index(max(values))\n",
        "    print(f'Вершина имеет координаты ({points[ind]}, {values[ind]})')"
      ],
      "metadata": {
        "id": "OfhhF1vbbKxx"
      },
      "execution_count": 10,
      "outputs": []
    },
    {
      "cell_type": "code",
      "source": [
        "get_top(eq)"
      ],
      "metadata": {
        "colab": {
          "base_uri": "https://localhost:8080/"
        },
        "id": "nmTzR0sibukD",
        "outputId": "62445f12-9ad4-402a-aaad-744d359b3c15"
      },
      "execution_count": 11,
      "outputs": [
        {
          "output_type": "stream",
          "name": "stdout",
          "text": [
            "Вершина имеет координаты (-5.00000000000000, 7.50000000000000)\n"
          ]
        }
      ]
    },
    {
      "cell_type": "markdown",
      "source": [
        "# Определение промежутков положительных и отрицательных значений функции"
      ],
      "metadata": {
        "id": "Rf3vNokYbT7X"
      }
    },
    {
      "cell_type": "code",
      "source": [
        "def get_sign_intervals(eq):\n",
        "    pos = solve(eq>0)\n",
        "    neg = solve(eq<0)\n",
        "    print('Функция положительна на следующих промежутках:', pos) \n",
        "    print('Функция отрицательна на следующих промежутках:', neg)"
      ],
      "metadata": {
        "id": "5eFM-cRnbeQ2"
      },
      "execution_count": 12,
      "outputs": []
    },
    {
      "cell_type": "code",
      "source": [
        "get_sign_intervals(eq)"
      ],
      "metadata": {
        "colab": {
          "base_uri": "https://localhost:8080/"
        },
        "id": "MrmrLrf2eIIb",
        "outputId": "cd8579e4-103e-4580-8b8f-9a688b3946d5"
      },
      "execution_count": 13,
      "outputs": [
        {
          "output_type": "stream",
          "name": "stdout",
          "text": [
            "Функция положительна на следующих промежутках: ((-6.32174537314726 < x) & (x < -3.25046383307744)) | ((0.405542539558034 < x) & (x < oo))\n",
            "Функция отрицательна на следующих промежутках: ((-oo < x) & (x < -6.32174537314726)) | ((-3.25046383307744 < x) & (x < 0.405542539558034))\n"
          ]
        }
      ]
    }
  ]
}